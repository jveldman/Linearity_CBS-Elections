{
 "cells": [
  {
   "cell_type": "markdown",
   "id": "f714bcc8-649d-4cd8-a040-0fd2d4a2d418",
   "metadata": {},
   "source": [
    "# Final Aassignment Applied Economic Analysis\n",
    "\n",
    "## Introduction\n",
    "\n",
    "\n",
    "It won´t be long until the political billboards will be constructed again in the Netherlands: new elections are close. Almost a year ago, Dutch citizens voted for the new government and members of Parliament. It will soon be time to vote again, now for the local councils. Although many institutions put effort in predicting the outcome of the elections, it is never really sure. What is striking, is that certain parties perform very well in certain areas, whilst they barely get votes in other areas. The Politically Reformed Party (SGP), for example, is very popular in the Bible Belt but doesn't get much votes from the major cities along the Dutch westcoast. The liberals (VVD) are then again more popular in wealthy areas but do not get many votes in neighbourhoods with many people performing manual labour. These statistics can be linked to the performance of certain parties and with that it should be possible to predict the election result to a certain extend. Next to the fact that it gives a better idea about what to expect from the coming elections, it might help strategic voters to maximise their influence on the outcome of the elections. Also, parties could use a prediction tool to find out where and where not to focus their marketing on. If the Socialists (SP) have a very low correlation with agricultural municipalities, then they can optimize their marketing campaign by focussing on those areas that were historically the most likely to vote on them. \n",
    "\n",
    "Because of all these benefits, the purpose of this research is to construct a tool that helps predicting the results of elections in municipalities. With this tool, democracy could be optimized as strategic voters can have a better influence. First, I will obtain, clean and structure the data of the CBS, the election results from the 'Kiesraad' and the geographical data obtained from the CBS. After that, I will develop a tool that iterates over columns to find the correlation between votes on a certain party and a specific statistic. When those results are in, I will construct a map where you can see past election results together with a prediction of the coming municipality elections. \n",
    "\n",
    "## Collecting, cleaning and structuring\n",
    "\n",
    "Because of the large quantity of data used in this project, I chose to work with a database. The parent table will be a table that contains all the municipality codes that have ever existed in the Netherlands between 2000 and 2022. Such a table is necessary as there were many reclassifications of municipalities over the past years. This table is obtained from the [CBS](https://opendata.cbs.nl/portal.html?_la=nl&_catalog=CBS&tableId=70739ned&_theme=234) and was created as follows:  "
   ]
  },
  {
   "cell_type": "code",
   "execution_count": null,
   "id": "e22f0dc5-985a-451a-9fdb-f7a63e8c1363",
   "metadata": {},
   "outputs": [],
   "source": [
    "import cbsodata as cbs \n",
    "import pandas as pd\n",
    "import sqlite3\n",
    "\n",
    "# Use CBS api to obtain the table (link in text above)\n",
    "muni_all = pd.DataFrame(cbs.get_data('70739ned'))\n",
    "\n",
    "# Rename municipality code column \n",
    "muni_all = muni_all.rename(columns = {'GebiedsOfGemeentecode_3':'municode'})\n",
    "\n",
    "# Define function to remove higher levels as provinces, municipality indication 'GM' and empty spaces.\n",
    "def clean_municode(table):\n",
    "    # Define removal function\n",
    "    remove_string = lambda x: table[~table.RegioS.str.contains(x)]\n",
    "    # Define strings to remove \n",
    "    removables = ['(PV)','(CR)','(LD)','Nederland']\n",
    "    # Remove defined strings from column\n",
    "    for item in removables: \n",
    "        table = remove_string(item)\n",
    "    # Drop empty rows in municode column\n",
    "    table.dropna(subset = ['municode'], inplace = True)\n",
    "    # Define string cleaning function\n",
    "    clean_string = lambda x: table.municode.str.replace(x, '')\n",
    "    # Clean string with GM and empty space command\n",
    "    table.municode = clean_string('GM')\n",
    "    table.municode = clean_string(' ')\n",
    "    # Transform to numeric \n",
    "    table.municode = pd.to_numeric(table.municode)\n",
    "    clean_string = lambda x: table.enddate.str.replace(x, '')\n",
    "    table.enddate = clean_string(' ')\n",
    "    table.enddate = pd.to_numeric(table.enddate)\n",
    "    table = table[(table.enddate >= 20000101) | (table.enddate.isnull())]\n",
    "    return(table)\n",
    "\n",
    "main_data = clean_municode(muni_all).drop_duplicates(subset = ['municode'])\n",
    "\n",
    "# Establish database connection\n",
    "con = sqlite3.connect(\"D:/data/PolProj.db\")\n",
    "\n",
    "#Write dataframe to database. municode gets primary key \n",
    "main_data.to_sql('general_data', con, \n",
    "                if_exists = 'replace', index = False, \n",
    "                dtype={'municode': 'INTEGER PRIMARY KEY AUTOINCREMENT'})\n",
    "\n"
   ]
  }
 ],
 "metadata": {
  "kernelspec": {
   "display_name": "Python 3",
   "language": "python",
   "name": "python3"
  },
  "language_info": {
   "codemirror_mode": {
    "name": "ipython",
    "version": 3
   },
   "file_extension": ".py",
   "mimetype": "text/x-python",
   "name": "python",
   "nbconvert_exporter": "python",
   "pygments_lexer": "ipython3",
   "version": "3.8.8"
  }
 },
 "nbformat": 4,
 "nbformat_minor": 5
}
